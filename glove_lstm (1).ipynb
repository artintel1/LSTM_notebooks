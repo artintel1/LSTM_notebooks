{
  "cells": [
    {
      "cell_type": "markdown",
      "metadata": {
        "id": "UyoWcRHgceF0"
      },
      "source": []
    },
    {
      "cell_type": "code",
      "execution_count": null,
      "metadata": {
        "id": "db2OEVfKceF2"
      },
      "outputs": [],
      "source": [
        "EMBEDDING_DIM = 50\n",
        "SENTENCE_LENGTH = 256\n",
        "GLOVE_FILE = f'glove.6B.{EMBEDDING_DIM}d.txt'"
      ]
    },
    {
      "cell_type": "code",
      "execution_count": null,
      "metadata": {
        "id": "JCLEk9xRceF3"
      },
      "outputs": [],
      "source": [
        "%matplotlib inline\n",
        "\n",
        "import pandas as pd\n",
        "import numpy as np"
      ]
    },
    {
      "cell_type": "markdown",
      "metadata": {
        "id": "jbNuEnCpceF3"
      },
      "source": [
        "### Load SMS Spam Data"
      ]
    },
    {
      "cell_type": "code",
      "execution_count": null,
      "metadata": {
        "colab": {
          "base_uri": "https://localhost:8080/",
          "height": 206
        },
        "id": "4oedz8g8ceF3",
        "outputId": "130211c8-5b52-4599-fb93-d23d49cb6476"
      },
      "outputs": [
        {
          "output_type": "execute_result",
          "data": {
            "text/plain": [
              "  label                                               data\n",
              "0   ham  Go until jurong point, crazy.. Available only ...\n",
              "1   ham                      Ok lar... Joking wif u oni...\n",
              "2  spam  Free entry in 2 a wkly comp to win FA Cup fina...\n",
              "3   ham  U dun say so early hor... U c already then say...\n",
              "4   ham  Nah I don't think he goes to usf, he lives aro..."
            ],
            "text/html": [
              "\n",
              "  <div id=\"df-ef492f00-c9d4-42b0-828b-72e7177017cc\" class=\"colab-df-container\">\n",
              "    <div>\n",
              "<style scoped>\n",
              "    .dataframe tbody tr th:only-of-type {\n",
              "        vertical-align: middle;\n",
              "    }\n",
              "\n",
              "    .dataframe tbody tr th {\n",
              "        vertical-align: top;\n",
              "    }\n",
              "\n",
              "    .dataframe thead th {\n",
              "        text-align: right;\n",
              "    }\n",
              "</style>\n",
              "<table border=\"1\" class=\"dataframe\">\n",
              "  <thead>\n",
              "    <tr style=\"text-align: right;\">\n",
              "      <th></th>\n",
              "      <th>label</th>\n",
              "      <th>data</th>\n",
              "    </tr>\n",
              "  </thead>\n",
              "  <tbody>\n",
              "    <tr>\n",
              "      <th>0</th>\n",
              "      <td>ham</td>\n",
              "      <td>Go until jurong point, crazy.. Available only ...</td>\n",
              "    </tr>\n",
              "    <tr>\n",
              "      <th>1</th>\n",
              "      <td>ham</td>\n",
              "      <td>Ok lar... Joking wif u oni...</td>\n",
              "    </tr>\n",
              "    <tr>\n",
              "      <th>2</th>\n",
              "      <td>spam</td>\n",
              "      <td>Free entry in 2 a wkly comp to win FA Cup fina...</td>\n",
              "    </tr>\n",
              "    <tr>\n",
              "      <th>3</th>\n",
              "      <td>ham</td>\n",
              "      <td>U dun say so early hor... U c already then say...</td>\n",
              "    </tr>\n",
              "    <tr>\n",
              "      <th>4</th>\n",
              "      <td>ham</td>\n",
              "      <td>Nah I don't think he goes to usf, he lives aro...</td>\n",
              "    </tr>\n",
              "  </tbody>\n",
              "</table>\n",
              "</div>\n",
              "    <div class=\"colab-df-buttons\">\n",
              "\n",
              "  <div class=\"colab-df-container\">\n",
              "    <button class=\"colab-df-convert\" onclick=\"convertToInteractive('df-ef492f00-c9d4-42b0-828b-72e7177017cc')\"\n",
              "            title=\"Convert this dataframe to an interactive table.\"\n",
              "            style=\"display:none;\">\n",
              "\n",
              "  <svg xmlns=\"http://www.w3.org/2000/svg\" height=\"24px\" viewBox=\"0 -960 960 960\">\n",
              "    <path d=\"M120-120v-720h720v720H120Zm60-500h600v-160H180v160Zm220 220h160v-160H400v160Zm0 220h160v-160H400v160ZM180-400h160v-160H180v160Zm440 0h160v-160H620v160ZM180-180h160v-160H180v160Zm440 0h160v-160H620v160Z\"/>\n",
              "  </svg>\n",
              "    </button>\n",
              "\n",
              "  <style>\n",
              "    .colab-df-container {\n",
              "      display:flex;\n",
              "      gap: 12px;\n",
              "    }\n",
              "\n",
              "    .colab-df-convert {\n",
              "      background-color: #E8F0FE;\n",
              "      border: none;\n",
              "      border-radius: 50%;\n",
              "      cursor: pointer;\n",
              "      display: none;\n",
              "      fill: #1967D2;\n",
              "      height: 32px;\n",
              "      padding: 0 0 0 0;\n",
              "      width: 32px;\n",
              "    }\n",
              "\n",
              "    .colab-df-convert:hover {\n",
              "      background-color: #E2EBFA;\n",
              "      box-shadow: 0px 1px 2px rgba(60, 64, 67, 0.3), 0px 1px 3px 1px rgba(60, 64, 67, 0.15);\n",
              "      fill: #174EA6;\n",
              "    }\n",
              "\n",
              "    .colab-df-buttons div {\n",
              "      margin-bottom: 4px;\n",
              "    }\n",
              "\n",
              "    [theme=dark] .colab-df-convert {\n",
              "      background-color: #3B4455;\n",
              "      fill: #D2E3FC;\n",
              "    }\n",
              "\n",
              "    [theme=dark] .colab-df-convert:hover {\n",
              "      background-color: #434B5C;\n",
              "      box-shadow: 0px 1px 3px 1px rgba(0, 0, 0, 0.15);\n",
              "      filter: drop-shadow(0px 1px 2px rgba(0, 0, 0, 0.3));\n",
              "      fill: #FFFFFF;\n",
              "    }\n",
              "  </style>\n",
              "\n",
              "    <script>\n",
              "      const buttonEl =\n",
              "        document.querySelector('#df-ef492f00-c9d4-42b0-828b-72e7177017cc button.colab-df-convert');\n",
              "      buttonEl.style.display =\n",
              "        google.colab.kernel.accessAllowed ? 'block' : 'none';\n",
              "\n",
              "      async function convertToInteractive(key) {\n",
              "        const element = document.querySelector('#df-ef492f00-c9d4-42b0-828b-72e7177017cc');\n",
              "        const dataTable =\n",
              "          await google.colab.kernel.invokeFunction('convertToInteractive',\n",
              "                                                    [key], {});\n",
              "        if (!dataTable) return;\n",
              "\n",
              "        const docLinkHtml = 'Like what you see? Visit the ' +\n",
              "          '<a target=\"_blank\" href=https://colab.research.google.com/notebooks/data_table.ipynb>data table notebook</a>'\n",
              "          + ' to learn more about interactive tables.';\n",
              "        element.innerHTML = '';\n",
              "        dataTable['output_type'] = 'display_data';\n",
              "        await google.colab.output.renderOutput(dataTable, element);\n",
              "        const docLink = document.createElement('div');\n",
              "        docLink.innerHTML = docLinkHtml;\n",
              "        element.appendChild(docLink);\n",
              "      }\n",
              "    </script>\n",
              "  </div>\n",
              "\n",
              "\n",
              "<div id=\"df-6c52d98c-7a34-42a9-add0-0527b782a320\">\n",
              "  <button class=\"colab-df-quickchart\" onclick=\"quickchart('df-6c52d98c-7a34-42a9-add0-0527b782a320')\"\n",
              "            title=\"Suggest charts\"\n",
              "            style=\"display:none;\">\n",
              "\n",
              "<svg xmlns=\"http://www.w3.org/2000/svg\" height=\"24px\"viewBox=\"0 0 24 24\"\n",
              "     width=\"24px\">\n",
              "    <g>\n",
              "        <path d=\"M19 3H5c-1.1 0-2 .9-2 2v14c0 1.1.9 2 2 2h14c1.1 0 2-.9 2-2V5c0-1.1-.9-2-2-2zM9 17H7v-7h2v7zm4 0h-2V7h2v10zm4 0h-2v-4h2v4z\"/>\n",
              "    </g>\n",
              "</svg>\n",
              "  </button>\n",
              "\n",
              "<style>\n",
              "  .colab-df-quickchart {\n",
              "      --bg-color: #E8F0FE;\n",
              "      --fill-color: #1967D2;\n",
              "      --hover-bg-color: #E2EBFA;\n",
              "      --hover-fill-color: #174EA6;\n",
              "      --disabled-fill-color: #AAA;\n",
              "      --disabled-bg-color: #DDD;\n",
              "  }\n",
              "\n",
              "  [theme=dark] .colab-df-quickchart {\n",
              "      --bg-color: #3B4455;\n",
              "      --fill-color: #D2E3FC;\n",
              "      --hover-bg-color: #434B5C;\n",
              "      --hover-fill-color: #FFFFFF;\n",
              "      --disabled-bg-color: #3B4455;\n",
              "      --disabled-fill-color: #666;\n",
              "  }\n",
              "\n",
              "  .colab-df-quickchart {\n",
              "    background-color: var(--bg-color);\n",
              "    border: none;\n",
              "    border-radius: 50%;\n",
              "    cursor: pointer;\n",
              "    display: none;\n",
              "    fill: var(--fill-color);\n",
              "    height: 32px;\n",
              "    padding: 0;\n",
              "    width: 32px;\n",
              "  }\n",
              "\n",
              "  .colab-df-quickchart:hover {\n",
              "    background-color: var(--hover-bg-color);\n",
              "    box-shadow: 0 1px 2px rgba(60, 64, 67, 0.3), 0 1px 3px 1px rgba(60, 64, 67, 0.15);\n",
              "    fill: var(--button-hover-fill-color);\n",
              "  }\n",
              "\n",
              "  .colab-df-quickchart-complete:disabled,\n",
              "  .colab-df-quickchart-complete:disabled:hover {\n",
              "    background-color: var(--disabled-bg-color);\n",
              "    fill: var(--disabled-fill-color);\n",
              "    box-shadow: none;\n",
              "  }\n",
              "\n",
              "  .colab-df-spinner {\n",
              "    border: 2px solid var(--fill-color);\n",
              "    border-color: transparent;\n",
              "    border-bottom-color: var(--fill-color);\n",
              "    animation:\n",
              "      spin 1s steps(1) infinite;\n",
              "  }\n",
              "\n",
              "  @keyframes spin {\n",
              "    0% {\n",
              "      border-color: transparent;\n",
              "      border-bottom-color: var(--fill-color);\n",
              "      border-left-color: var(--fill-color);\n",
              "    }\n",
              "    20% {\n",
              "      border-color: transparent;\n",
              "      border-left-color: var(--fill-color);\n",
              "      border-top-color: var(--fill-color);\n",
              "    }\n",
              "    30% {\n",
              "      border-color: transparent;\n",
              "      border-left-color: var(--fill-color);\n",
              "      border-top-color: var(--fill-color);\n",
              "      border-right-color: var(--fill-color);\n",
              "    }\n",
              "    40% {\n",
              "      border-color: transparent;\n",
              "      border-right-color: var(--fill-color);\n",
              "      border-top-color: var(--fill-color);\n",
              "    }\n",
              "    60% {\n",
              "      border-color: transparent;\n",
              "      border-right-color: var(--fill-color);\n",
              "    }\n",
              "    80% {\n",
              "      border-color: transparent;\n",
              "      border-right-color: var(--fill-color);\n",
              "      border-bottom-color: var(--fill-color);\n",
              "    }\n",
              "    90% {\n",
              "      border-color: transparent;\n",
              "      border-bottom-color: var(--fill-color);\n",
              "    }\n",
              "  }\n",
              "</style>\n",
              "\n",
              "  <script>\n",
              "    async function quickchart(key) {\n",
              "      const quickchartButtonEl =\n",
              "        document.querySelector('#' + key + ' button');\n",
              "      quickchartButtonEl.disabled = true;  // To prevent multiple clicks.\n",
              "      quickchartButtonEl.classList.add('colab-df-spinner');\n",
              "      try {\n",
              "        const charts = await google.colab.kernel.invokeFunction(\n",
              "            'suggestCharts', [key], {});\n",
              "      } catch (error) {\n",
              "        console.error('Error during call to suggestCharts:', error);\n",
              "      }\n",
              "      quickchartButtonEl.classList.remove('colab-df-spinner');\n",
              "      quickchartButtonEl.classList.add('colab-df-quickchart-complete');\n",
              "    }\n",
              "    (() => {\n",
              "      let quickchartButtonEl =\n",
              "        document.querySelector('#df-6c52d98c-7a34-42a9-add0-0527b782a320 button');\n",
              "      quickchartButtonEl.style.display =\n",
              "        google.colab.kernel.accessAllowed ? 'block' : 'none';\n",
              "    })();\n",
              "  </script>\n",
              "</div>\n",
              "\n",
              "    </div>\n",
              "  </div>\n"
            ],
            "application/vnd.google.colaboratory.intrinsic+json": {
              "type": "dataframe",
              "variable_name": "df",
              "summary": "{\n  \"name\": \"df\",\n  \"rows\": 5572,\n  \"fields\": [\n    {\n      \"column\": \"label\",\n      \"properties\": {\n        \"dtype\": \"category\",\n        \"num_unique_values\": 2,\n        \"samples\": [\n          \"spam\",\n          \"ham\"\n        ],\n        \"semantic_type\": \"\",\n        \"description\": \"\"\n      }\n    },\n    {\n      \"column\": \"data\",\n      \"properties\": {\n        \"dtype\": \"string\",\n        \"num_unique_values\": 5169,\n        \"samples\": [\n          \"K, makes sense, btw carlos is being difficult so you guys are gonna smoke while I go pick up the second batch and get gas\",\n          \"URGENT! Your mobile No *********** WON a \\u00a32,000 Bonus Caller Prize on 02/06/03! This is the 2nd attempt to reach YOU! Call 09066362220 ASAP! BOX97N7QP, 150ppm\"\n        ],\n        \"semantic_type\": \"\",\n        \"description\": \"\"\n      }\n    }\n  ]\n}"
            }
          },
          "metadata": {},
          "execution_count": 6
        }
      ],
      "source": [
        "df = pd.read_csv('/content/SMSSpamCollection.txt', sep='\\t', names=['label', 'data'])\n",
        "df.head()"
      ]
    },
    {
      "cell_type": "code",
      "source": [
        "print(df.shape[0])"
      ],
      "metadata": {
        "colab": {
          "base_uri": "https://localhost:8080/"
        },
        "id": "LzKPyMIXJFVk",
        "outputId": "350e44aa-894e-44e6-a2fd-8e4c56975962"
      },
      "execution_count": null,
      "outputs": [
        {
          "output_type": "stream",
          "name": "stdout",
          "text": [
            "5572\n"
          ]
        }
      ]
    },
    {
      "cell_type": "code",
      "source": [
        "df['Message_Length'] = df['data'].apply(len)\n",
        "\n",
        "longest_message = df.loc[df['Message_Length'].idxmax(), 'data']\n",
        "longest_message_length = df['Message_Length'].max()\n",
        "\n",
        "print(\"Longest message:\", longest_message)\n",
        "print(\"Length of longest message:\", longest_message_length)\n",
        "average_length = df['Message_Length'].mean()\n",
        "print(\"average length:\",average_length)\n",
        "long_messages_count = (df['Message_Length'] > 256).sum()\n",
        "\n",
        "print(\"Number of messages longer than 250 characters:\", long_messages_count)"
      ],
      "metadata": {
        "colab": {
          "base_uri": "https://localhost:8080/"
        },
        "id": "ET3E9-tyM3Na",
        "outputId": "5d510f95-eb73-498b-be67-5de1fd136cf2"
      },
      "execution_count": null,
      "outputs": [
        {
          "output_type": "stream",
          "name": "stdout",
          "text": [
            "Longest message: For me the love should start with attraction.i should feel that I need her every time around me.she should be the first thing which comes in my thoughts.I would start the day and end it with her.she should be there every time I dream.love will be then when my every breath has her name.my life should happen around her.my life will be named to her.I would cry for her.will give all my happiness and take all her sorrows.I will be ready to fight with anyone for her.I will be in love when I will be doing the craziest things for her.love will be when I don't have to proove anyone that my girl is the most beautiful lady on the whole planet.I will always be singing praises for her.love will be when I start up making chicken curry and end up makiing sambar.life will be the most beautiful then.will get every morning and thank god for the day because she is with me.I would like to say a lot..will tell later..\n",
            "Length of longest message: 910\n",
            "average length: 80.48994974874371\n",
            "Number of messages longer than 250 characters: 66\n"
          ]
        }
      ]
    },
    {
      "cell_type": "code",
      "source": [
        "# @title download glove embeddings\n",
        "!wget http://nlp.stanford.edu/data/glove.6B.zip && unzip glove.6B.zip"
      ],
      "metadata": {
        "colab": {
          "base_uri": "https://localhost:8080/"
        },
        "id": "Q959eSkNe9o4",
        "outputId": "0d75a298-3f03-43f6-b08e-934858f496cf"
      },
      "execution_count": null,
      "outputs": [
        {
          "output_type": "stream",
          "name": "stdout",
          "text": [
            "--2024-11-05 02:28:10--  http://nlp.stanford.edu/data/glove.6B.zip\n",
            "Resolving nlp.stanford.edu (nlp.stanford.edu)... 171.64.67.140\n",
            "Connecting to nlp.stanford.edu (nlp.stanford.edu)|171.64.67.140|:80... connected.\n",
            "HTTP request sent, awaiting response... 302 Found\n",
            "Location: https://nlp.stanford.edu/data/glove.6B.zip [following]\n",
            "--2024-11-05 02:28:11--  https://nlp.stanford.edu/data/glove.6B.zip\n",
            "Connecting to nlp.stanford.edu (nlp.stanford.edu)|171.64.67.140|:443... connected.\n",
            "HTTP request sent, awaiting response... 301 Moved Permanently\n",
            "Location: https://downloads.cs.stanford.edu/nlp/data/glove.6B.zip [following]\n",
            "--2024-11-05 02:28:11--  https://downloads.cs.stanford.edu/nlp/data/glove.6B.zip\n",
            "Resolving downloads.cs.stanford.edu (downloads.cs.stanford.edu)... 171.64.64.22\n",
            "Connecting to downloads.cs.stanford.edu (downloads.cs.stanford.edu)|171.64.64.22|:443... connected.\n",
            "HTTP request sent, awaiting response... 200 OK\n",
            "Length: 862182613 (822M) [application/zip]\n",
            "Saving to: ‘glove.6B.zip’\n",
            "\n",
            "glove.6B.zip        100%[===================>] 822.24M  4.94MB/s    in 3m 20s  \n",
            "\n",
            "2024-11-05 02:31:31 (4.12 MB/s) - ‘glove.6B.zip’ saved [862182613/862182613]\n",
            "\n",
            "Archive:  glove.6B.zip\n",
            "  inflating: glove.6B.50d.txt        \n",
            "  inflating: glove.6B.100d.txt       \n",
            "  inflating: glove.6B.200d.txt       \n",
            "  inflating: glove.6B.300d.txt       \n"
          ]
        }
      ]
    },
    {
      "cell_type": "code",
      "source": [],
      "metadata": {
        "id": "cMfpcfnae-2C"
      },
      "execution_count": null,
      "outputs": []
    },
    {
      "cell_type": "code",
      "execution_count": null,
      "metadata": {
        "id": "B0jBvkW5ceF4"
      },
      "outputs": [],
      "source": [
        "# @title store the word embeddings into a dictionary\n",
        "embeddings = {}\n",
        "\n",
        "with open(GLOVE_FILE, 'r', encoding='utf-8') as f:\n",
        "    for line in f:\n",
        "        values = line.strip().split()\n",
        "        w = values[0]\n",
        "        vectors = np.asarray(values[1:], dtype='float32')\n",
        "        embeddings[w] = vectors"
      ]
    },
    {
      "cell_type": "markdown",
      "metadata": {
        "id": "hffR7sQ_ceF4"
      },
      "source": [
        "### OOV Tokens\n",
        "We will use the average of our word embeddings for out of vocabulary tokens."
      ]
    },
    {
      "cell_type": "code",
      "execution_count": null,
      "metadata": {
        "colab": {
          "base_uri": "https://localhost:8080/"
        },
        "id": "v3oUth8xceF4",
        "outputId": "ea763ac3-aa50-4c71-af9d-717ec6239157"
      },
      "outputs": [
        {
          "output_type": "stream",
          "name": "stdout",
          "text": [
            "[-0.12920076 -0.28866628 -0.01224866 -0.05676644 -0.20210965 -0.08389011\n",
            "  0.33359843  0.16045167  0.03867431  0.17833012  0.04696583 -0.00285802\n",
            "  0.29099807  0.04613704 -0.20923874 -0.06613114 -0.06822549  0.07665912\n",
            "  0.3134014   0.17848536 -0.1225775  -0.09916984 -0.07495987  0.06413227\n",
            "  0.14441176  0.60894334  0.17463093  0.05335403 -0.01273871  0.03474107\n",
            " -0.8123879  -0.04688699  0.20193407  0.2031118  -0.03935686  0.06967544\n",
            " -0.01553638 -0.03405238 -0.06528071  0.12250231  0.13991883 -0.17446303\n",
            " -0.08011883  0.0849521  -0.01041659 -0.13705009  0.20127155  0.10069408\n",
            "  0.00653003  0.01685157]\n"
          ]
        }
      ],
      "source": [
        "# Get number of vectors and hidden dim\n",
        "with open(GLOVE_FILE, 'r') as f:\n",
        "    for i, line in enumerate(f):\n",
        "        pass\n",
        "n_vec = i + 1\n",
        "hidden_dim = len(line.split(' ')) - 1\n",
        "\n",
        "vecs = np.zeros((n_vec, hidden_dim), dtype=np.float32)\n",
        "\n",
        "with open(GLOVE_FILE, 'r') as f:\n",
        "    for i, line in enumerate(f):\n",
        "        vecs[i] = np.array([float(n) for n in line.split(' ')[1:]], dtype=np.float32)\n",
        "\n",
        "average_vec = np.mean(vecs, axis=0)\n",
        "print(average_vec)"
      ]
    },
    {
      "cell_type": "code",
      "execution_count": null,
      "metadata": {
        "colab": {
          "base_uri": "https://localhost:8080/"
        },
        "id": "IIjzLgHwceF5",
        "outputId": "9c306ff4-92b6-4eb1-e78b-8a735e85d068"
      },
      "outputs": [
        {
          "output_type": "execute_result",
          "data": {
            "text/plain": [
              "array([ 4.1800e-01,  2.4968e-01, -4.1242e-01,  1.2170e-01,  3.4527e-01,\n",
              "       -4.4457e-02, -4.9688e-01, -1.7862e-01, -6.6023e-04, -6.5660e-01,\n",
              "        2.7843e-01, -1.4767e-01, -5.5677e-01,  1.4658e-01, -9.5095e-03,\n",
              "        1.1658e-02,  1.0204e-01, -1.2792e-01, -8.4430e-01, -1.2181e-01,\n",
              "       -1.6801e-02, -3.3279e-01, -1.5520e-01, -2.3131e-01, -1.9181e-01,\n",
              "       -1.8823e+00, -7.6746e-01,  9.9051e-02, -4.2125e-01, -1.9526e-01,\n",
              "        4.0071e+00, -1.8594e-01, -5.2287e-01, -3.1681e-01,  5.9213e-04,\n",
              "        7.4449e-03,  1.7778e-01, -1.5897e-01,  1.2041e-02, -5.4223e-02,\n",
              "       -2.9871e-01, -1.5749e-01, -3.4758e-01, -4.5637e-02, -4.4251e-01,\n",
              "        1.8785e-01,  2.7849e-03, -1.8411e-01, -1.1514e-01, -7.8581e-01],\n",
              "      dtype=float32)"
            ]
          },
          "metadata": {},
          "execution_count": 17
        }
      ],
      "source": [
        "# Sample embedding\n",
        "embeddings['the']"
      ]
    },
    {
      "cell_type": "code",
      "execution_count": null,
      "metadata": {
        "id": "OcLxDO_bceF5"
      },
      "outputs": [],
      "source": [
        "import string\n",
        "import re\n",
        "from nltk.stem import PorterStemmer\n",
        "from nltk.tokenize import sent_tokenize, word_tokenize\n",
        "\n",
        "ps = PorterStemmer()\n",
        "translator = str.maketrans('', '', string.punctuation)\n",
        "\n",
        "def normalize_word(text):\n",
        "    # Remove white space, cast to lowercase,\n",
        "    # remove punctuation and numbers\n",
        "    text = text.lower()\n",
        "    text = text.translate(translator)\n",
        "    text = text.strip(' ')\n",
        "    text = re.sub(r'\\d+', '', text)\n",
        "#     text = ps.stem(text)\n",
        "    return text"
      ]
    },
    {
      "cell_type": "markdown",
      "metadata": {
        "id": "9BfeHHjuceF5"
      },
      "source": [
        "### Encode Text into Numpy Array\n",
        "This process is done by encoding each word of each sentence to its word vector. We pad our sentences with a 0 matrix to make them all the same length"
      ]
    },
    {
      "cell_type": "code",
      "execution_count": null,
      "metadata": {
        "id": "_-aGaU8HceF5"
      },
      "outputs": [],
      "source": [
        "import string\n",
        "WARN = True\n",
        "def encode_sentence(sentence, embeddings, sentence_length=SENTENCE_LENGTH):\n",
        "    encoded_sentence = []\n",
        "    words = list(map(lambda w: normalize_word(w), sentence.split(' ')))\n",
        "    for word in words:\n",
        "        if word == '':\n",
        "            continue\n",
        "        if len(encoded_sentence) >= sentence_length:\n",
        "            break\n",
        "        if word in embeddings:\n",
        "            word_embedding = embeddings[word]\n",
        "        else:\n",
        "            word_embedding = average_vec\n",
        "#             continue\n",
        "\n",
        "        encoded_sentence.append(word_embedding)\n",
        "\n",
        "    # Zero Pad embeddings to sentence_length for LSTM batch training\n",
        "    while len(encoded_sentence) < sentence_length:\n",
        "        encoded_sentence.append(np.zeros((EMBEDDING_DIM)))\n",
        "    return np.array(encoded_sentence)"
      ]
    },
    {
      "cell_type": "code",
      "execution_count": null,
      "metadata": {
        "colab": {
          "base_uri": "https://localhost:8080/"
        },
        "id": "wWz26bEcceF5",
        "outputId": "69d30b5c-ba85-408e-df94-3787b1e7c66e"
      },
      "outputs": [
        {
          "output_type": "execute_result",
          "data": {
            "text/plain": [
              "array([[-0.38497001,  0.80092001,  0.064106  , -0.28354999, -0.026759  ,\n",
              "        -0.34531999, -0.64253002, -0.11729   , -0.33256999,  0.55242997,\n",
              "        -0.087813  ,  0.90350002,  0.47102001,  0.56656998,  0.69849998,\n",
              "        -0.35229   , -0.86541998,  0.90573001,  0.03576   , -0.071705  ,\n",
              "        -0.12327   ,  0.54922998,  0.47005001,  0.35572001,  1.26110005,\n",
              "        -0.67580998, -0.94983   ,  0.68665999,  0.38710001, -1.34920001,\n",
              "         0.63511997,  0.46416   , -0.48813999,  0.83827001, -0.92460001,\n",
              "        -0.33722001,  0.53741002, -1.06159997, -0.081403  , -0.67110997,\n",
              "         0.30923   , -0.39230001, -0.55001998, -0.68826997,  0.58048999,\n",
              "        -0.11626   ,  0.013139  , -0.57653999,  0.048833  ,  0.67203999],\n",
              "       [ 0.68491   ,  0.32385001, -0.11592   , -0.35925001,  0.49889001,\n",
              "         0.042541  , -0.40153   , -0.36793   , -0.61440998, -0.41148001,\n",
              "        -0.34819999, -0.21952   , -0.22393   , -0.64965999,  0.85443002,\n",
              "         0.33581999,  0.2931    ,  0.16552   , -0.55081999, -0.61277002,\n",
              "        -0.14768   ,  0.47551   ,  0.65877002, -0.07103   ,  0.56146997,\n",
              "        -1.2651    , -0.74116999,  0.36364999,  0.56230003, -0.27364999,\n",
              "         3.8506    ,  0.27645001, -0.1009    , -0.71568   ,  0.18511   ,\n",
              "        -0.12312   ,  0.56630999, -0.22376999, -0.016831  ,  0.57538998,\n",
              "        -0.51761001,  0.033823  ,  0.19643   ,  0.63498002, -0.24866   ,\n",
              "         0.038716  , -0.50559002,  0.17873999, -0.1693    ,  0.062375  ],\n",
              "       [ 0.        ,  0.        ,  0.        ,  0.        ,  0.        ,\n",
              "         0.        ,  0.        ,  0.        ,  0.        ,  0.        ,\n",
              "         0.        ,  0.        ,  0.        ,  0.        ,  0.        ,\n",
              "         0.        ,  0.        ,  0.        ,  0.        ,  0.        ,\n",
              "         0.        ,  0.        ,  0.        ,  0.        ,  0.        ,\n",
              "         0.        ,  0.        ,  0.        ,  0.        ,  0.        ,\n",
              "         0.        ,  0.        ,  0.        ,  0.        ,  0.        ,\n",
              "         0.        ,  0.        ,  0.        ,  0.        ,  0.        ,\n",
              "         0.        ,  0.        ,  0.        ,  0.        ,  0.        ,\n",
              "         0.        ,  0.        ,  0.        ,  0.        ,  0.        ]])"
            ]
          },
          "metadata": {},
          "execution_count": 20
        }
      ],
      "source": [
        "# Sample embedded sentence zero padded to a length of 3\n",
        "encode_sentence(\"hello there\", embeddings, 3)"
      ]
    },
    {
      "cell_type": "code",
      "execution_count": null,
      "metadata": {
        "id": "wTUHYVVbceF6"
      },
      "outputs": [],
      "source": [
        "def encode_X(dfx, embeddings):\n",
        "    encoded_df = []\n",
        "    for x in dfx.values:\n",
        "        sentence_embedding = encode_sentence(x, embeddings)\n",
        "        encoded_df.append(sentence_embedding)\n",
        "    np.concatenate(encoded_df, axis=0)\n",
        "    return np.array(encoded_df)"
      ]
    },
    {
      "cell_type": "markdown",
      "metadata": {
        "id": "jpb4-UxIceF6"
      },
      "source": [
        "# Split our data into Training, Validation, and Test"
      ]
    },
    {
      "cell_type": "code",
      "execution_count": null,
      "metadata": {
        "colab": {
          "base_uri": "https://localhost:8080/",
          "height": 178
        },
        "id": "EMoN5PjbceF6",
        "outputId": "f3bba9a3-74ff-44c0-db24-887989291664"
      },
      "outputs": [
        {
          "output_type": "execute_result",
          "data": {
            "text/plain": [
              "label\n",
              "ham     4825\n",
              "spam     747\n",
              "Name: count, dtype: int64"
            ],
            "text/html": [
              "<div>\n",
              "<style scoped>\n",
              "    .dataframe tbody tr th:only-of-type {\n",
              "        vertical-align: middle;\n",
              "    }\n",
              "\n",
              "    .dataframe tbody tr th {\n",
              "        vertical-align: top;\n",
              "    }\n",
              "\n",
              "    .dataframe thead th {\n",
              "        text-align: right;\n",
              "    }\n",
              "</style>\n",
              "<table border=\"1\" class=\"dataframe\">\n",
              "  <thead>\n",
              "    <tr style=\"text-align: right;\">\n",
              "      <th></th>\n",
              "      <th>count</th>\n",
              "    </tr>\n",
              "    <tr>\n",
              "      <th>label</th>\n",
              "      <th></th>\n",
              "    </tr>\n",
              "  </thead>\n",
              "  <tbody>\n",
              "    <tr>\n",
              "      <th>ham</th>\n",
              "      <td>4825</td>\n",
              "    </tr>\n",
              "    <tr>\n",
              "      <th>spam</th>\n",
              "      <td>747</td>\n",
              "    </tr>\n",
              "  </tbody>\n",
              "</table>\n",
              "</div><br><label><b>dtype:</b> int64</label>"
            ]
          },
          "metadata": {},
          "execution_count": 25
        }
      ],
      "source": [
        "# Shuffle df\n",
        "df = df.sample(frac=1).reset_index(drop=True)\n",
        "df['label'].value_counts()"
      ]
    },
    {
      "cell_type": "code",
      "execution_count": null,
      "metadata": {
        "id": "P_GNjiR7ceF6"
      },
      "outputs": [],
      "source": [
        "X = df['data']\n",
        "X_train = X[0:int(X.shape[0]*.6)]\n",
        "X_val = X[int(X.shape[0]*.6):int(X.shape[0]*.75)]\n",
        "X_test = X[int(X.shape[0]*.75):]\n",
        "\n",
        "X_train = encode_X(X_train, embeddings)\n",
        "X_val = encode_X(X_val, embeddings)\n",
        "X_test = encode_X(X_test, embeddings)"
      ]
    },
    {
      "cell_type": "code",
      "execution_count": null,
      "metadata": {
        "colab": {
          "base_uri": "https://localhost:8080/"
        },
        "id": "_Uz7M2OwceF6",
        "outputId": "6fe26c7d-e0a6-4e51-fff5-77d38868678d"
      },
      "outputs": [
        {
          "output_type": "stream",
          "name": "stdout",
          "text": [
            "label\n",
            "ham     2889\n",
            "spam     454\n",
            "Name: count, dtype: int64\n",
            "label\n",
            "ham     730\n",
            "spam    106\n",
            "Name: count, dtype: int64\n",
            "label\n",
            "ham     1206\n",
            "spam     187\n",
            "Name: count, dtype: int64\n"
          ]
        }
      ],
      "source": [
        "y = df['label']\n",
        "y_train = y[0:int(y.shape[0]*.6)]\n",
        "y_val = y[int(y.shape[0]*.6):int(y.shape[0]*.75)]\n",
        "y_test = y[int(y.shape[0]*.75):]\n",
        "\n",
        "print(y_train.value_counts())\n",
        "print(y_val.value_counts())\n",
        "print(y_test.value_counts())\n",
        "\n",
        "HAM = 0\n",
        "SPAM = 1\n",
        "\n",
        "y_train = np.array(list(map(lambda x: HAM if x == 'ham' else SPAM, y_train)))\n",
        "y_val = np.array(list(map(lambda x: HAM if x == 'ham' else SPAM, y_val)))\n",
        "y_test = np.array(list(map(lambda x: HAM if x == 'ham' else SPAM, y_test)))"
      ]
    },
    {
      "cell_type": "markdown",
      "metadata": {
        "id": "5gAMI3S9ceF6"
      },
      "source": [
        "### Build LSTM"
      ]
    },
    {
      "cell_type": "code",
      "execution_count": null,
      "metadata": {
        "colab": {
          "base_uri": "https://localhost:8080/"
        },
        "id": "AmLDqneOceF6",
        "outputId": "6564e3e2-1aca-4298-ea51-1454318f9543"
      },
      "outputs": [
        {
          "output_type": "stream",
          "name": "stdout",
          "text": [
            "(1393, 256, 50)\n"
          ]
        },
        {
          "output_type": "stream",
          "name": "stderr",
          "text": [
            "/usr/local/lib/python3.10/dist-packages/keras/src/layers/rnn/rnn.py:204: UserWarning: Do not pass an `input_shape`/`input_dim` argument to a layer. When using Sequential models, prefer using an `Input(shape)` object as the first layer in the model instead.\n",
            "  super().__init__(**kwargs)\n"
          ]
        }
      ],
      "source": [
        "import tensorflow as tf\n",
        "print(X_test.shape)\n",
        "\n",
        "model = tf.keras.Sequential([\n",
        "    tf.keras.layers.LSTM(256, input_shape=(SENTENCE_LENGTH, EMBEDDING_DIM)),\n",
        "    tf.keras.layers.Dense(64, activation='relu'),\n",
        "    tf.keras.layers.Dense(1, activation='sigmoid')\n",
        "])\n",
        "model.compile(loss='binary_crossentropy',\n",
        "              optimizer=tf.keras.optimizers.Adam(2e-5),\n",
        "              metrics=['accuracy'])"
      ]
    },
    {
      "cell_type": "markdown",
      "metadata": {
        "id": "oR5MobKXceF7"
      },
      "source": [
        "### Train LSTM"
      ]
    },
    {
      "cell_type": "code",
      "execution_count": null,
      "metadata": {
        "colab": {
          "base_uri": "https://localhost:8080/"
        },
        "id": "tLdufFI2ceF7",
        "outputId": "36c91e67-7151-4c30-f2f4-d1e7f6041b07"
      },
      "outputs": [
        {
          "output_type": "stream",
          "name": "stdout",
          "text": [
            "Epoch 1/5\n",
            "\u001b[1m105/105\u001b[0m \u001b[32m━━━━━━━━━━━━━━━━━━━━\u001b[0m\u001b[37m\u001b[0m \u001b[1m6s\u001b[0m 23ms/step - accuracy: 0.8649 - loss: 0.6888 - val_accuracy: 0.8732 - val_loss: 0.6293\n",
            "Epoch 2/5\n",
            "\u001b[1m105/105\u001b[0m \u001b[32m━━━━━━━━━━━━━━━━━━━━\u001b[0m\u001b[37m\u001b[0m \u001b[1m3s\u001b[0m 19ms/step - accuracy: 0.8659 - loss: 0.4627 - val_accuracy: 0.8732 - val_loss: 0.3079\n",
            "Epoch 3/5\n",
            "\u001b[1m105/105\u001b[0m \u001b[32m━━━━━━━━━━━━━━━━━━━━\u001b[0m\u001b[37m\u001b[0m \u001b[1m2s\u001b[0m 22ms/step - accuracy: 0.8875 - loss: 0.2518 - val_accuracy: 0.9438 - val_loss: 0.1956\n",
            "Epoch 4/5\n",
            "\u001b[1m105/105\u001b[0m \u001b[32m━━━━━━━━━━━━━━━━━━━━\u001b[0m\u001b[37m\u001b[0m \u001b[1m3s\u001b[0m 22ms/step - accuracy: 0.9485 - loss: 0.1703 - val_accuracy: 0.9486 - val_loss: 0.1929\n",
            "Epoch 5/5\n",
            "\u001b[1m105/105\u001b[0m \u001b[32m━━━━━━━━━━━━━━━━━━━━\u001b[0m\u001b[37m\u001b[0m \u001b[1m2s\u001b[0m 21ms/step - accuracy: 0.9545 - loss: 0.1597 - val_accuracy: 0.9474 - val_loss: 0.1915\n"
          ]
        }
      ],
      "source": [
        "history = model.fit(x=X_train, y=y_train, epochs=5,\n",
        "                    validation_data=(X_val, y_val),\n",
        "                    shuffle=True)"
      ]
    },
    {
      "cell_type": "code",
      "source": [
        "#saving\n",
        "model.save('spam_detector.keras')"
      ],
      "metadata": {
        "id": "a5X0UokqPL4Z"
      },
      "execution_count": null,
      "outputs": []
    },
    {
      "cell_type": "markdown",
      "metadata": {
        "id": "H_lfp08EceF7"
      },
      "source": [
        "### Visualize Loss"
      ]
    },
    {
      "cell_type": "code",
      "execution_count": null,
      "metadata": {
        "colab": {
          "base_uri": "https://localhost:8080/",
          "height": 451
        },
        "id": "8bhGN-FvceF7",
        "outputId": "0e25824f-711a-4684-8703-25595f1fe451"
      },
      "outputs": [
        {
          "output_type": "display_data",
          "data": {
            "text/plain": [
              "<Figure size 640x480 with 1 Axes>"
            ],
            "image/png": "[encoded data removed]"
          },
          "metadata": {}
        }
      ],
      "source": [
        "import matplotlib.pyplot as plt\n",
        "training_loss = history.history['loss']\n",
        "test_loss = history.history['val_loss']\n",
        "epoch_count = range(1, len(training_loss) + 1)\n",
        "\n",
        "plt.plot(epoch_count, training_loss, 'r--')\n",
        "plt.plot(epoch_count, test_loss, 'b-')\n",
        "plt.legend(['Training Loss', 'Test Loss'])\n",
        "plt.xlabel('Epoch')\n",
        "plt.ylabel('Loss')\n",
        "plt.show()"
      ]
    },
    {
      "cell_type": "markdown",
      "metadata": {
        "id": "UePNPtxAceF7"
      },
      "source": [
        "### Test LSTM"
      ]
    },
    {
      "cell_type": "code",
      "execution_count": null,
      "metadata": {
        "colab": {
          "base_uri": "https://localhost:8080/"
        },
        "id": "s7e_BrgtceF7",
        "outputId": "f9b264cd-2aff-4d4f-8874-1b280a766a08"
      },
      "outputs": [
        {
          "output_type": "stream",
          "name": "stdout",
          "text": [
            "[('loss', array(0.18047023, dtype=float32)), ('compile_metrics', array(0.948856, dtype=float32))]\n"
          ]
        }
      ],
      "source": [
        "test_results = model.test_on_batch(\n",
        "    X_test,\n",
        "    y=y_test,\n",
        ")\n",
        "print(list(zip(model.metrics_names, test_results)))"
      ]
    },
    {
      "cell_type": "code",
      "execution_count": null,
      "metadata": {
        "colab": {
          "base_uri": "https://localhost:8080/"
        },
        "id": "kmwH-KXsceF7",
        "outputId": "4cad5d99-ce10-4363-9a74-429817a3a148"
      },
      "outputs": [
        {
          "output_type": "stream",
          "name": "stdout",
          "text": [
            "\u001b[1m44/44\u001b[0m \u001b[32m━━━━━━━━━━━━━━━━━━━━\u001b[0m\u001b[37m\u001b[0m \u001b[1m1s\u001b[0m 12ms/step\n"
          ]
        }
      ],
      "source": [
        "y_pred = model.predict(X_test).round()\n",
        "y_pred = list(map(lambda x: int(x[0]), y_pred))\n",
        "confusion = tf.math.confusion_matrix(labels=y_test, predictions=y_pred, num_classes=2)\n",
        "confusion = confusion.numpy()"
      ]
    },
    {
      "cell_type": "code",
      "execution_count": null,
      "metadata": {
        "colab": {
          "base_uri": "https://localhost:8080/"
        },
        "id": "-4pBCqExceF7",
        "outputId": "b0f40d7b-0e31-484b-9cd3-4846fcdaf929"
      },
      "outputs": [
        {
          "output_type": "stream",
          "name": "stdout",
          "text": [
            "Accuracy: 94.97%\n",
            "True Positive Rate (Sensitivity): 75.94%\n",
            "False Negative Rate: 24.06%\n",
            "Precision: 85.03%\n",
            "F1 Score: 0.8\n"
          ]
        }
      ],
      "source": [
        "tn = confusion[0][0]  # True Negatives\n",
        "fp = confusion[0][1]  # False Positives\n",
        "fn = confusion[1][0]  # False Negatives\n",
        "tp = confusion[1][1]  # True Positives\n",
        "\n",
        "# Calculate metrics\n",
        "accuracy = (tp + tn) / (tp + tn + fp + fn)\n",
        "true_positive_rate = tp / (tp + fn)  # Sensitivity\n",
        "false_negative_rate = fn / (tp + fn)  # FNR\n",
        "precision = tp / (tp + fp)  # Positive Predictive Value\n",
        "f1_score = 2 * (precision * true_positive_rate) / (precision + true_positive_rate)\n",
        "\n",
        "# Print results\n",
        "print(f\"Accuracy: {round(accuracy * 100, 2)}%\")\n",
        "print(f\"True Positive Rate (Sensitivity): {round(true_positive_rate * 100, 2)}%\")\n",
        "print(f\"False Negative Rate: {round(false_negative_rate * 100, 2)}%\")\n",
        "print(f\"Precision: {round(precision * 100, 2)}%\")\n",
        "print(f\"F1 Score: {round(f1_score, 2)}\")\n"
      ]
    },
    {
      "cell_type": "code",
      "execution_count": null,
      "metadata": {
        "colab": {
          "base_uri": "https://localhost:8080/",
          "height": 718
        },
        "id": "FXtrVV0gceF8",
        "outputId": "a04916f5-d83b-4ee9-93a5-bb4a57608f80"
      },
      "outputs": [
        {
          "output_type": "display_data",
          "data": {
            "text/plain": [
              "<Figure size 1200x800 with 2 Axes>"
            ],
            "image/png": "[encoded data removed]"
          },
          "metadata": {}
        }
      ],
      "source": [
        "import seaborn as sns\n",
        "\n",
        "df_cm = pd.DataFrame(confusion, index = [\"HAM\", \"SPAM\"],\n",
        "                  columns = [\"HAM\", \"SPAM\"])\n",
        "plt.figure(figsize = (12,8))\n",
        "sns.set(font_scale=1.5)\n",
        "annot_kws = {\"ha\": 'left',\"va\": 'bottom'}\n",
        "hm = sns.heatmap(df_cm, cmap=\"Pastel1\", fmt=\"d\", annot=True, annot_kws=annot_kws)\n",
        "plt.ylabel('True label')\n",
        "plt.xlabel('Predicted label')\n",
        "plt.show()"
      ]
    },
    {
      "cell_type": "markdown",
      "metadata": {
        "id": "iSXt-8sdceF8"
      },
      "source": [
        "### Test Sample Sentences\n",
        "This function allows us to make predictions on arbitrary sentences using the trained model."
      ]
    },
    {
      "cell_type": "code",
      "execution_count": null,
      "metadata": {
        "id": "g-IO2DZqceF8"
      },
      "outputs": [],
      "source": [
        "def test_sentence(sentence):\n",
        "    s = encode_sentence(sentence, embeddings)\n",
        "    s = s.reshape((1,s.shape[0],s.shape[1]))\n",
        "    prediction = model.predict(s)[0][0]\n",
        "    if prediction >= 0.5:\n",
        "        print(\"It's SPAM!\")\n",
        "    else:\n",
        "        print(\"It's HAM!\")\n",
        "    print(f\"Sigmoid: {prediction}\")"
      ]
    },
    {
      "cell_type": "code",
      "execution_count": null,
      "metadata": {
        "colab": {
          "base_uri": "https://localhost:8080/"
        },
        "id": "nI5GmAyMceF9",
        "outputId": "5625c0f4-49e4-4e65-e7f8-dd3bfd5edeb7"
      },
      "outputs": [
        {
          "output_type": "stream",
          "name": "stdout",
          "text": [
            "\u001b[1m1/1\u001b[0m \u001b[32m━━━━━━━━━━━━━━━━━━━━\u001b[0m\u001b[37m\u001b[0m \u001b[1m0s\u001b[0m 31ms/step\n",
            "It's SPAM!\n",
            "Sigmoid: 0.7015069127082825\n",
            "\u001b[1m1/1\u001b[0m \u001b[32m━━━━━━━━━━━━━━━━━━━━\u001b[0m\u001b[37m\u001b[0m \u001b[1m0s\u001b[0m 33ms/step\n",
            "It's HAM!\n",
            "Sigmoid: 0.016925320029258728\n"
          ]
        }
      ],
      "source": [
        "test_sentence(\"\"\"Enter to win $25,000 and get a Free Hotel Night! Just click\n",
        "    here for a $1 trial membership in NetMarket, the Internet's\n",
        "    premier discount shopping site:\n",
        "    http://www.netmarket.com/MEM/scripts/outsidePromo.asp?ref=yoyo_shp01\"\"\")\n",
        "test_sentence(\"\"\"My system has been down for the past 48 hours. Please help.\"\"\")"
      ]
    }
  ],
  "metadata": {
    "kernelspec": {
      "display_name": "Python 3",
      "name": "python3"
    },
    "language_info": {
      "codemirror_mode": {
        "name": "ipython",
        "version": 3
      },
      "file_extension": ".py",
      "mimetype": "text/x-python",
      "name": "python",
      "nbconvert_exporter": "python",
      "pygments_lexer": "ipython3",
      "version": "3.7.4"
    },
    "colab": {
      "provenance": [],
      "gpuType": "T4"
    },
    "accelerator": "GPU"
  },
  "nbformat": 4,
  "nbformat_minor": 0
}